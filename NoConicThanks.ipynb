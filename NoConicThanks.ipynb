{
 "cells": [
  {
   "cell_type": "markdown",
   "id": "410dcd56",
   "metadata": {},
   "source": [
    "## Aim"
   ]
  },
  {
   "cell_type": "markdown",
   "id": "c9b1c02e",
   "metadata": {},
   "source": [
    "Our purpose is to assist the proof of Claim 9.2.7 in the article, proving that the quadratic polynomials \n",
    "\n",
    "$$\\mathcal Q_1 = L_{0,2}L_{1,3}, \\quad \\mathcal Q_2 = L_{0,1} L_{2,3}, \\quad \\mathcal Q_3 = R_{0,2}R_{1,3}\n",
    "$$\n",
    "\n",
    "defined in equation (9.2.10) are linearly independent modulo $R_{2,3}$, except for at most $36$ choices of the point $P$. (see also the cell below and the article for the notation) "
   ]
  },
  {
   "cell_type": "markdown",
   "id": "1f377455",
   "metadata": {},
   "source": [
    "## Setting and first definitions"
   ]
  },
  {
   "cell_type": "markdown",
   "id": "2ffda6ad",
   "metadata": {},
   "source": [
    "Fix the notation as in the article: \n",
    "- $P$. $\\widetilde{P}$, $Q$, $R$ are $\\overline {\\mathbb F_q}$-points on an elliptic curve $E/\\mathbb F_q$ (we think $Q$, $R$ $\\widetilde{P}$ as ''fixed'' and $P$ to be more ''variable'')\n",
    "- $\\sigma$ is an element of the Galois group of $\\overline {\\mathbb F_q} / \\mathbb F_q$ such that $\\sigma(P)= P$, $\\sigma(\\widetilde P)= \\widetilde  P$, while the orbits of $Q$ and $R$ under $\\sigma$ both have cardinality $4$. Indeed the points $Q = \\sigma^0 Q, \\ldots, \\sigma^3 Q, R = \\sigma^0 R, \\ldots, \\sigma^3 R$ are all distinct, while $\\sigma^4 Q = Q$ and $\\sigma^4 R = R$\n",
    "- for any point on $E \\setminus \\{ O_E\\}$ we denote $f_{point} = (y-y(point))/(x-x(point))$ as in Equation (8.1.1) of the article: it is a rational function on $E$ with degree $2$, with simple poles in $O_E$ and $-point$.  \n",
    "- Let $l_i = f_{\\sigma^i Q}(\\widetilde P)$ and $r_i = f_{\\sigma^i R}(\\widetilde P)$, for $i=0,1,2,3$, which we think as ''constants'' in $\\overline{\\mathbb F_q}$\n",
    "- In particular we have $\\sigma f_{\\sigma^i Q} = f_{\\sigma^{i+1} Q}$, $\\sigma f_{\\sigma^i R} = f_{\\sigma^{i+1} R}$, $\\sigma(l_i) = l_{i+1}$ and $\\sigma(r_i) = r_{i+1}$, where the index is considered modulo $4$\n",
    "- Finally $L_{i,j} = L_{i,j}(\\alpha, \\beta, \\gamma)$ and $R_{i,j}= R_{i,j}(\\alpha, \\beta, \\gamma)$ are defined in Equation (9.2.1) and are linear homogenous polynomials in the variables $\\alpha, \\beta, \\gamma$, whose coefficients depend on the values of $l_i, r_i, f_{\\sigma^i Q}(P)$ and $f_{\\sigma^i R}(P)$ .\n",
    "\n"
   ]
  },
  {
   "cell_type": "markdown",
   "id": "22dfaa95",
   "metadata": {},
   "source": [
    "### We work with polynomials with integral coefficients in the variables `l_i, r_i, f_Qi, f_Ri`, which correspond respectively to the quantities $l_i$, $r_i$ and the functions $f_{\\sigma^i Q}$, $f_{\\sigma^iR}$.\n",
    "\n",
    "In particular a polynomial with integral coefficients in the variables `l_i, r_i, f_Qi, f_Ri` can be though as a rational function on $E$, possibly constant. When we add or multiply these multivariate polynomial it corresponds to adding or multiplying rational functions on $E$ and when we factor those multivariate polynomials it gives a way of writing a rational function as a product of others (possibly simpler) rational functions. "
   ]
  },
  {
   "cell_type": "code",
   "execution_count": 1,
   "id": "32c59537",
   "metadata": {},
   "outputs": [],
   "source": [
    "R_symbols.<l_0,l_1,l_2,l_3,r_0,r_1,r_2,r_3,f_Q0,f_Q1,f_Q2,f_Q3,f_R0,f_R1,f_R2,f_R3, alpha, beta, gamma> = ZZ[]"
   ]
  },
  {
   "cell_type": "markdown",
   "id": "83b1e056",
   "metadata": {},
   "source": [
    "We introduce the linear polynomials $L_{i,j}(\\alpha, \\beta, \\gamma)$ and $R_{i,j}(\\alpha, \\beta, \\gamma)$ defined in Equation (9.2.1), and then the quadratic polynomials $\\mathcal Q_i$ defined in (9.2.9)"
   ]
  },
  {
   "cell_type": "code",
   "execution_count": 2,
   "id": "7801fb50",
   "metadata": {},
   "outputs": [],
   "source": [
    "l_s = [l_0,l_1,l_2,l_3]\n",
    "r_s = [r_0,r_1,r_2,r_3]\n",
    "f_Rs = [f_R0,f_R1,f_R2,f_R3]\n",
    "f_Qs = [f_Q0,f_Q1,f_Q2,f_Q3]\n",
    "\n",
    "def L(i,j):\n",
    "    return (l_s[j]-l_s[i])*alpha + (f_Qs[i]-f_Qs[j])*beta + (l_s[j]*f_Qs[i]-l_s[i]*f_Qs[j])*gamma\n",
    "def R(i,j):\n",
    "    return (r_s[j]-r_s[i])*alpha + (f_Rs[i]-f_Rs[j])*beta + (r_s[j]*f_Rs[i]-r_s[i]*f_Rs[j])*gamma\n",
    "\n",
    "# L(0,1)"
   ]
  },
  {
   "cell_type": "code",
   "execution_count": 3,
   "id": "51979e02",
   "metadata": {},
   "outputs": [],
   "source": [
    "Q_1 = L(0,2)*L(1,3)\n",
    "Q_2 = L(0,1)*L(2,3)\n",
    "\n",
    "Q_3 = R(0,2)*R(1,3)"
   ]
  },
  {
   "cell_type": "markdown",
   "id": "6fa72434",
   "metadata": {},
   "source": [
    "## Step1: From linear dependence to some determinant being zero: "
   ]
  },
  {
   "cell_type": "markdown",
   "id": "83aafbbc",
   "metadata": {},
   "source": [
    "\n",
    "We follow the argument in the article after (9.2.9), making the computations explicit.\n",
    "\n",
    "Suppose that there exists constants $\\lambda_i \\in \\overline{\\mathbb{F}_q}$, with $(\\lambda_1,\\lambda_2)\\neq (0,0)$  such that\n",
    "\n",
    "$$ \\lambda_1\\mathcal Q_1 + \\lambda_2\\mathcal Q_2 - \\lambda_3\\mathcal Q_3 \\equiv 0 \\pmod{R_{2,3}}  \\ . \\qquad (EQ.1) $$ \n",
    "\n",
    "Then $(\\mathcal Q_1 \\bmod{R_{2,3}})$, $(\\mathcal Q_2 \\bmod{R_{2,3}})$ and $(\\mathcal Q_3 \\bmod{R_{2,3}})$ are linearly dependent in the $\\overline{\\mathbb{F}_q}-$vector space $\\overline{\\mathbb{F}_q}[\\alpha, \\beta, \\gamma]/(R_{2,3})$. \n",
    "Moreover this vector space is isomorphic to $\\overline{\\mathbb{F}_q}[\\beta, \\gamma]$ as follows: we have $R_{2,3} =  c_\\alpha\\alpha + c_\\beta\\beta + c_\\gamma\\gamma$ for certain $c_\\alpha, c_\\beta, c_\\gamma \\in  \\overline{\\mathbb{F}_q}$ and since  $c_\\alpha = r_3-r_2 \\in \\overline{\\mathbb{F}_q}^\\times$, we have the isomorphism \n",
    "$$\n",
    "\\varphi \\colon  \\overline{\\mathbb{F}_q}[\\alpha, \\beta, \\gamma]/(R_{2,3}) \\overset{\\sim}{\\longrightarrow} \\overline{\\mathbb{F}_q}[\\beta, \\gamma]\n",
    "\\,, \\qquad \\left( P\\left(\\alpha, \\beta, \\gamma \\right) \\bmod R_{2,3}\\right) \\longmapsto P\\left(\\tfrac{ -c_\\beta\\beta - c_\\gamma\\gamma}{c_\\alpha}, \\beta, \\gamma \\right) \\ .\n",
    "$$\n",
    "\n",
    "Using this interpretation we rewrite the equation $(EQ.1)$  as\n",
    "\n",
    "$$\n",
    "\\mu_1 \\varphi(\\mathcal{Q}_1) + \n",
    "\\mu_2 \\varphi(\\mathcal{Q}_2) + \n",
    "\\mu_3 \\varphi(\\mathcal{Q}_3) =  0 \\quad \\text{in }  \\overline{\\mathbb{F}_q}[\\beta, \\gamma]  \\qquad (EQ.2) \n",
    "$$"
   ]
  },
  {
   "cell_type": "markdown",
   "id": "61a6c014",
   "metadata": {},
   "source": [
    "Now, since the polynomials $\\mathcal{Q}_i$ are quadratic homogeneous (in the variables $\\alpha, \\beta,\\gamma$) then the same is true for $ \\varphi(\\mathcal{Q}_i)$ (in the variables $\\beta,\\gamma$), hence we can write \n",
    "\n",
    "$$ \n",
    "\\varphi(\\mathcal{Q}_i) = M_{i1}\\beta^2 + M_{i2} \\beta\\gamma + M_{i3}\\gamma^2 = M_{i1}(P)\\beta^2 + M_{i2}(P) \\beta\\gamma + M_{i3}(P)\\gamma^2 \n",
    "$$\n",
    "\n",
    "for certain coordinates $M_{ij} = M_{ij}(P)$. Recall that the coefficients of the polynomials $R_{i,j}, \\mathcal Q_i$ depend on the point $P$, i.e. they are rational function in $P$, hence the same is true for the coordinates $M_{ij}$.\n",
    "\n",
    "In particular the linear dependence in Equation $(EQ.2)$ tells us that the matrix $M(P) = (M_{i,j}(P))_{i,j=1,2,3}$ has determinant $0$.\n"
   ]
  },
  {
   "cell_type": "markdown",
   "id": "2627f89f",
   "metadata": {},
   "source": [
    "\n",
    "We now compute the isomorphism $\\varphi$ and the matrix $M(P)$\n",
    " "
   ]
  },
  {
   "cell_type": "code",
   "execution_count": 4,
   "id": "b3f4d6a8",
   "metadata": {},
   "outputs": [],
   "source": [
    "def has_integral_coefficients(F):\n",
    "    \"\"\"Given F in R_symbols, it checks whether the coefficients are integers\"\"\"\n",
    "    return all([(x.denominator()==1) for x in F.coefficients()])\n",
    "\n",
    "\n",
    "def phi(poly):\n",
    "    \"\"\"It computes the isomorphism phi explained above in a polynomial poly\"\"\"\n",
    "    R23 = R(2,3)\n",
    "    c_alpha = R23.coefficient(alpha)\n",
    "    c_beta = R23.coefficient(beta)\n",
    "    c_gamma = R23.coefficient(gamma)\n",
    "    answer = poly(alpha = -(beta*c_beta + gamma*c_gamma)/c_alpha )\n",
    "#     now we check the integrality of the numerator and the fact that the denominator is a non-zero constant\n",
    "    for fac in answer.denominator().factor():\n",
    "        if not(fac[0] != r_3-r_2) :\n",
    "            raise Exception(\"phi: the denominator might be not invertible\")\n",
    "    if not(has_integral_coefficients(answer.numerator())) :\n",
    "        raise Exception(\"phi: the numerator does not have integral coefficients\")\n",
    "    return answer"
   ]
  },
  {
   "cell_type": "code",
   "execution_count": 5,
   "id": "59d68769",
   "metadata": {},
   "outputs": [],
   "source": [
    "def Coords_quadratic_poly(quad):\n",
    "    \"\"\"Given a polynomial quad = quad(beta, gamma) which is homogenous of degree 2, it computes its coordinates with respect\n",
    "    to the basis beta^2, beta*gamma, gamma^2 of the space of quadratic homogenous polynomials\"\"\"\n",
    "    monomials = [beta^2, beta*gamma, gamma^2]\n",
    "    coeffs = [quad.numerator().coefficient(monomial)/quad.denominator() for monomial in monomials]\n",
    "#     check that indeed quad was quadratic homogenous\n",
    "    for coeff in coeffs:\n",
    "        if coeff!= coeff(alpha=0, beta=0,gamma=0):\n",
    "            raise Exception(\"Coords_quadratic_poly: the input is not quadratic homogeneous\")\n",
    "    if quad != sum([coeffs[i]*monomials[i] for i in range(3)]):\n",
    "            raise Exception(\"Coords_quadratic_poly: the input is not quadratic homogeneous\")\n",
    "    return coeffs"
   ]
  },
  {
   "cell_type": "code",
   "execution_count": 6,
   "id": "d4cfe9f3",
   "metadata": {},
   "outputs": [],
   "source": [
    "M = Matrix([Coords_quadratic_poly(phi(Q)) for Q in [Q_1,Q_2,Q_3]])"
   ]
  },
  {
   "cell_type": "markdown",
   "id": "0d8f3cf5",
   "metadata": {},
   "source": [
    "\n",
    "\n",
    "As said before, if the $\\mathcal Q_i \\bmod{R_{2,3}}$ are linearly dependent then the determinant of $M$ is zero, and actually, as we can check, such determinant is the fraction of some rational function with a denominator which is a power of $(r_2-r_3)\\in \\overline{\\mathbb{F}_q}^\\times$, and the numerator is zero"
   ]
  },
  {
   "cell_type": "code",
   "execution_count": 7,
   "id": "41bfe2f7",
   "metadata": {},
   "outputs": [
    {
     "data": {
      "text/plain": [
       "(r_2 - r_3)^3"
      ]
     },
     "execution_count": 7,
     "metadata": {},
     "output_type": "execute_result"
    }
   ],
   "source": [
    "M.determinant().denominator().factor()"
   ]
  },
  {
   "cell_type": "code",
   "execution_count": 8,
   "id": "367b5c4f",
   "metadata": {},
   "outputs": [],
   "source": [
    "zero_det = R_symbols(M.determinant().numerator())"
   ]
  },
  {
   "cell_type": "code",
   "execution_count": 9,
   "id": "75fbe4b5",
   "metadata": {},
   "outputs": [
    {
     "name": "stdout",
     "output_type": "stream",
     "text": [
      "the degree of zero_det in the variable  f_Q0  is  2\n",
      "the degree of zero_det in the variable  f_Q1  is  2\n",
      "the degree of zero_det in the variable  f_Q2  is  2\n",
      "the degree of zero_det in the variable  f_Q3  is  2\n",
      "the degree of zero_det in the variable  f_R0  is  1\n",
      "the degree of zero_det in the variable  f_R1  is  1\n",
      "the degree of zero_det in the variable  f_R2  is  4\n",
      "the degree of zero_det in the variable  f_R3  is  4\n",
      "Hence zero_det has degree at most  36   (the double of the sum of all degree)\n"
     ]
    }
   ],
   "source": [
    "upper_bound_deg = 0\n",
    "for f in f_Qs+f_Rs:\n",
    "    print(\"the degree of zero_det in the variable \", f, \" is \", zero_det.degree(f))\n",
    "    upper_bound_deg += 2*zero_det.degree(f)\n",
    "print('Hence zero_det has degree at most ', upper_bound_deg, \"  (the double of the sum of all degree)\")"
   ]
  },
  {
   "cell_type": "markdown",
   "id": "ce001eaf",
   "metadata": {},
   "source": [
    "Now there are two cases:\n",
    "- `zero_det`, seen as a function in $P$, is not the zero function.\n",
    "- `zero_det` seen as a function in $P$, is the zero function.\n",
    "\n",
    "In the first case then the above computations show that it has degree at most 36 (we use that it is a polynomial in the function $f_{\\sigma^i Q}$, $f_{\\sigma^i R}$ and that these functions have degree $2$) hence there are at most $36$ points $P$, such that $zero\\_det(P)=0$, hence at most $36$ points $P$ such that $Q_1, Q_2, Q_3, Q_4$ are linearly dependent, as we wanted to prove.\n",
    "\n",
    "### Suppose by contradiction that `zero_det` is the zero function."
   ]
  },
  {
   "cell_type": "markdown",
   "id": "e5e63c4b",
   "metadata": {},
   "source": [
    "## Step 2:  $C_d$,  a function that vanishes on $-\\sigma^3 R$;  actually it is the zero function!"
   ]
  },
  {
   "cell_type": "markdown",
   "id": "8bb67d15",
   "metadata": {},
   "source": [
    "Since `zero_det` is constantly zero, it does not have a pole in $-\\sigma^3 R$. In particular write `zero_det` as a polynomial in the variable `f_R3`, which corresponds to $f_{\\sigma^3 R}$ which is the only function with a pole in $-\\sigma^3 R$, among the functions $f_{\\sigma^i Q}$, $f_{\\sigma^i R}$), i.e. write \n",
    "\n",
    "$$\n",
    "zero\\_det = C_d \\cdot   f_{\\sigma^3 R}^d \\,+\\,  C_{d-1} \\cdot f_{\\sigma^3 R}^{d-1} \\, + \\ldots  + C_1 \\cdot f_{\\sigma^3 R} \\,+\\,\n",
    "C_0 \\ ,\n",
    "$$\n",
    "\n",
    "where $ C_i$ are multivariate polynomials in the variables $l_0,\\ldots, l_3, r_0, \\ldots, r_3, f_{\\sigma^0 Q}, \\ldots, f_{\\sigma^3 Q}, f_{\\sigma^0 R}, \\ldots, f_{\\sigma^2 R}$.\n",
    "\n",
    "Since `zero_det`$=0$, the pole of order $d$ in $-{\\sigma^3 R}$ introduced by $ f_{\\sigma^3 R}^d$ needs to cancel out and since the $C_i$'s are regular in $-\\sigma^3 R$, we deduce that\n",
    "### 2a)  $C_d$ vanishes on $-\\sigma^3 R$.\n",
    "\n",
    "We now compute the function $C_d$ with the name `C_d`.\n"
   ]
  },
  {
   "cell_type": "code",
   "execution_count": 10,
   "id": "a3b5eeaa",
   "metadata": {},
   "outputs": [],
   "source": [
    "def main_coeff(F,g):\n",
    "    '''F a polynomial,g a variable, extracts the main coefficient of F with respect to g. This corresponds to the above c_d'''\n",
    "    if F ==0 : \n",
    "        return 0\n",
    "    else:\n",
    "        return F.coefficient(g^(F.degree(g)))"
   ]
  },
  {
   "cell_type": "code",
   "execution_count": 11,
   "id": "a692f40e",
   "metadata": {},
   "outputs": [],
   "source": [
    "C_d = main_coeff(zero_det,f_R3)"
   ]
  },
  {
   "cell_type": "code",
   "execution_count": 12,
   "id": "333355b0",
   "metadata": {},
   "outputs": [
    {
     "data": {
      "text/plain": [
       "(r_1 - r_2) * (r_0 - r_2) * (-l_0*l_2^2*l_3*f_Q0*f_Q1 + l_1*l_2^2*l_3*f_Q0*f_Q1 + l_0*l_2*l_3^2*f_Q0*f_Q1 - l_1*l_2*l_3^2*f_Q0*f_Q1 + l_0*l_2^2*r_2*f_Q0*f_Q1 - l_1*l_2^2*r_2*f_Q0*f_Q1 - l_0*l_3^2*r_2*f_Q0*f_Q1 + l_1*l_3^2*r_2*f_Q0*f_Q1 - l_0*l_2*r_2^2*f_Q0*f_Q1 + l_1*l_2*r_2^2*f_Q0*f_Q1 + l_0*l_3*r_2^2*f_Q0*f_Q1 - l_1*l_3*r_2^2*f_Q0*f_Q1 + l_0*l_1^2*l_3*f_Q0*f_Q2 - l_1^2*l_2*l_3*f_Q0*f_Q2 - l_0*l_1*l_3^2*f_Q0*f_Q2 + l_1*l_2*l_3^2*f_Q0*f_Q2 - l_0*l_1^2*r_2*f_Q0*f_Q2 + l_1^2*l_2*r_2*f_Q0*f_Q2 + l_0*l_3^2*r_2*f_Q0*f_Q2 - l_2*l_3^2*r_2*f_Q0*f_Q2 + l_0*l_1*r_2^2*f_Q0*f_Q2 - l_1*l_2*r_2^2*f_Q0*f_Q2 - l_0*l_3*r_2^2*f_Q0*f_Q2 + l_2*l_3*r_2^2*f_Q0*f_Q2 - l_0^2*l_1*l_3*f_Q1*f_Q2 + l_0^2*l_2*l_3*f_Q1*f_Q2 + l_0*l_1*l_3^2*f_Q1*f_Q2 - l_0*l_2*l_3^2*f_Q1*f_Q2 + l_0^2*l_1*r_2*f_Q1*f_Q2 - l_0^2*l_2*r_2*f_Q1*f_Q2 - l_1*l_3^2*r_2*f_Q1*f_Q2 + l_2*l_3^2*r_2*f_Q1*f_Q2 - l_0*l_1*r_2^2*f_Q1*f_Q2 + l_0*l_2*r_2^2*f_Q1*f_Q2 + l_1*l_3*r_2^2*f_Q1*f_Q2 - l_2*l_3*r_2^2*f_Q1*f_Q2 - l_0*l_1^2*l_2*f_Q0*f_Q3 + l_0*l_1*l_2^2*f_Q0*f_Q3 + l_1^2*l_2*l_3*f_Q0*f_Q3 - l_1*l_2^2*l_3*f_Q0*f_Q3 + l_0*l_1^2*r_2*f_Q0*f_Q3 - l_0*l_2^2*r_2*f_Q0*f_Q3 - l_1^2*l_3*r_2*f_Q0*f_Q3 + l_2^2*l_3*r_2*f_Q0*f_Q3 - l_0*l_1*r_2^2*f_Q0*f_Q3 + l_0*l_2*r_2^2*f_Q0*f_Q3 + l_1*l_3*r_2^2*f_Q0*f_Q3 - l_2*l_3*r_2^2*f_Q0*f_Q3 + l_0^2*l_1*l_2*f_Q1*f_Q3 - l_0*l_1*l_2^2*f_Q1*f_Q3 - l_0^2*l_2*l_3*f_Q1*f_Q3 + l_0*l_2^2*l_3*f_Q1*f_Q3 - l_0^2*l_1*r_2*f_Q1*f_Q3 + l_1*l_2^2*r_2*f_Q1*f_Q3 + l_0^2*l_3*r_2*f_Q1*f_Q3 - l_2^2*l_3*r_2*f_Q1*f_Q3 + l_0*l_1*r_2^2*f_Q1*f_Q3 - l_1*l_2*r_2^2*f_Q1*f_Q3 - l_0*l_3*r_2^2*f_Q1*f_Q3 + l_2*l_3*r_2^2*f_Q1*f_Q3 - l_0^2*l_1*l_2*f_Q2*f_Q3 + l_0*l_1^2*l_2*f_Q2*f_Q3 + l_0^2*l_1*l_3*f_Q2*f_Q3 - l_0*l_1^2*l_3*f_Q2*f_Q3 + l_0^2*l_2*r_2*f_Q2*f_Q3 - l_1^2*l_2*r_2*f_Q2*f_Q3 - l_0^2*l_3*r_2*f_Q2*f_Q3 + l_1^2*l_3*r_2*f_Q2*f_Q3 - l_0*l_2*r_2^2*f_Q2*f_Q3 + l_1*l_2*r_2^2*f_Q2*f_Q3 + l_0*l_3*r_2^2*f_Q2*f_Q3 - l_1*l_3*r_2^2*f_Q2*f_Q3 + l_0*l_1^2*l_2*f_Q0*f_R2 - l_0*l_1*l_2^2*f_Q0*f_R2 - l_0*l_1^2*l_3*f_Q0*f_R2 + l_0*l_2^2*l_3*f_Q0*f_R2 + l_0*l_1*l_3^2*f_Q0*f_R2 - l_0*l_2*l_3^2*f_Q0*f_R2 - l_1^2*l_2*r_2*f_Q0*f_R2 + l_1*l_2^2*r_2*f_Q0*f_R2 + l_1^2*l_3*r_2*f_Q0*f_R2 - l_2^2*l_3*r_2*f_Q0*f_R2 - l_1*l_3^2*r_2*f_Q0*f_R2 + l_2*l_3^2*r_2*f_Q0*f_R2 - l_0^2*l_1*l_2*f_Q1*f_R2 + l_0*l_1*l_2^2*f_Q1*f_R2 + l_0^2*l_1*l_3*f_Q1*f_R2 - l_1*l_2^2*l_3*f_Q1*f_R2 - l_0*l_1*l_3^2*f_Q1*f_R2 + l_1*l_2*l_3^2*f_Q1*f_R2 + l_0^2*l_2*r_2*f_Q1*f_R2 - l_0*l_2^2*r_2*f_Q1*f_R2 - l_0^2*l_3*r_2*f_Q1*f_R2 + l_2^2*l_3*r_2*f_Q1*f_R2 + l_0*l_3^2*r_2*f_Q1*f_R2 - l_2*l_3^2*r_2*f_Q1*f_R2 + l_0^2*l_1*l_2*f_Q2*f_R2 - l_0*l_1^2*l_2*f_Q2*f_R2 - l_0^2*l_2*l_3*f_Q2*f_R2 + l_1^2*l_2*l_3*f_Q2*f_R2 + l_0*l_2*l_3^2*f_Q2*f_R2 - l_1*l_2*l_3^2*f_Q2*f_R2 - l_0^2*l_1*r_2*f_Q2*f_R2 + l_0*l_1^2*r_2*f_Q2*f_R2 + l_0^2*l_3*r_2*f_Q2*f_R2 - l_1^2*l_3*r_2*f_Q2*f_R2 - l_0*l_3^2*r_2*f_Q2*f_R2 + l_1*l_3^2*r_2*f_Q2*f_R2 - l_0^2*l_1*l_3*f_Q3*f_R2 + l_0*l_1^2*l_3*f_Q3*f_R2 + l_0^2*l_2*l_3*f_Q3*f_R2 - l_1^2*l_2*l_3*f_Q3*f_R2 - l_0*l_2^2*l_3*f_Q3*f_R2 + l_1*l_2^2*l_3*f_Q3*f_R2 + l_0^2*l_1*r_2*f_Q3*f_R2 - l_0*l_1^2*r_2*f_Q3*f_R2 - l_0^2*l_2*r_2*f_Q3*f_R2 + l_1^2*l_2*r_2*f_Q3*f_R2 + l_0*l_2^2*r_2*f_Q3*f_R2 - l_1*l_2^2*r_2*f_Q3*f_R2)"
      ]
     },
     "execution_count": 12,
     "metadata": {},
     "output_type": "execute_result"
    }
   ],
   "source": [
    "C_d.factor()"
   ]
  },
  {
   "cell_type": "markdown",
   "id": "a4ad3efb",
   "metadata": {},
   "source": [
    "<i>(We chose the variable `f_R3`, or equivalently $f_{\\sigma^3R}$, because, as computable below, the degree of `zero_det` with respect to `f_R3` is the highest, and conversely (`zero_det` is homogenous) `C_d` has low degree, which is simpler to handle.)</i>"
   ]
  },
  {
   "cell_type": "code",
   "execution_count": 13,
   "id": "e46227f2",
   "metadata": {},
   "outputs": [],
   "source": [
    "# def main_coeff(F,g):\n",
    "#     '''F a polynomial,g a variable, extracts the main coefficient of F with respect to g. This corresponds to the above c_d'''\n",
    "#     if F ==0 : \n",
    "#         return 0\n",
    "#     else:\n",
    "#         return F.coefficient(g^(F.degree(g)))\n",
    "\n",
    "# def total_deg_fs(P):\n",
    "#     \"\"\"Given a polynomials P homogenous in the l_i, r_i, and in the f_Qi, f_Ri, it returns the degreee as a polynomial just in the f_Qi, f_Ri,'s\"\"\"\n",
    "#     return main_coeff(main_coeff(main_coeff(main_coeff(main_coeff(main_coeff(main_coeff(main_coeff(P, r_0), r_1), r_2), r_3), l_0), l_1), l_2), l_3).degree()\n",
    "\n",
    "\n",
    "# constants = l_s + r_s\n",
    "# f_s = f_Qs + f_Rs\n",
    "\n",
    "# def degs_fs(P):\n",
    "#     \"\"\"The list of degrees of P in the variables of type f_..\"\"\"\n",
    "#     return [P.degree(f) for f in f_s]\n",
    "\n",
    "\n",
    "# print(\"total deg in f's=\", total_deg_fs(zero_det), \"   partials degrees =\", degs_fs(zero_det) )\n"
   ]
  },
  {
   "cell_type": "markdown",
   "id": "c8357a2d",
   "metadata": {},
   "source": [
    "We now study some properties of $C_d$ in order to deduce that it is actually the zero function. First of all we  check that \n",
    "\n",
    "### 2b) $C_d$  vanishes on $0_E$ and $\\widetilde P$, in both cases with order  $\\ge 2$\n",
    "\n",
    "To chech these vanishings we compute an <i>expansion</i> of $C_d$ at the point $O_E$, respectively $\\tilde P$, in a parameter $h$ at the point.\n",
    "\n",
    "- For the point $O_E$ we choose parameter $h =x/y$ and we that the functions of the form $f_{point}$ are of the form $\\tfrac 1h + h\\cdot g_{point}$ for $g_{point}$ a function regular at $O_E$ (in our computations the functions $g_{point}$ for point of the form $\\sigma^i Q, \\sigma^iR$ correspont to the variables `g_Qi, g_Ri`)\n",
    "\n",
    "- For the point $\\widetilde P$ we use the fact that $f_{\\sigma^i Q}(\\widetilde P) = l_i$ and $f_{\\sigma^i R}(\\widetilde P) = r_i$ by definition of the $l_i, r_i$, hence choosing any parameter  $h$ at $\\widetilde P$, \n",
    "there exists functions $g_{Qi}, g_{Ri}$, again encoded in the variables `g_Qi, g_Ri`, that are regular at $\\widetilde P$, such that $f_{sigma^i R} = r_i + h\\cdot g_{Ri}$ and $f_{sigma^i Q} = l_i + h\\cdot g_{Qi}$\n",
    "\n",
    "\n"
   ]
  },
  {
   "cell_type": "code",
   "execution_count": 14,
   "id": "9c7258ec",
   "metadata": {},
   "outputs": [],
   "source": [
    "R_auxiliary.<h,g_Q0,g_Q1,g_Q2,g_Q3,g_R0,g_R1,g_R2,g_R3> = R_symbols[]\n",
    "\n",
    "\n",
    "def expansion_in_0(poly):\n",
    "    \"\"\"GIven poly an element of R_symbols, interpreted as a rational function on E, \n",
    "    it computes an approximated expansion of poly in O_E in the parameter h =x/y at O_E and in certain function g_Qi, g_Ri that are regular at O_E, \n",
    "    using that the functions of the form  f_{point} are of the form 1/h + h*g_{point} for some function g_{point} that is regular at O_E (indeed g_Qi, g_Ri are the functions g_{sigma^iQ} and g_{sigma^iR})\"\"\"\n",
    "    return poly(f_Q0=1/h + h*g_Q0, f_Q1=1/h + h*g_Q1, f_Q2=1/h + h*g_Q2, f_Q3=1/h + h*g_Q3, \n",
    "                f_R0=1/h + h*g_R0, f_R1=1/h + h*g_R1, f_R2=1/h + h*g_R2, f_R3=1/h + h*g_R3)\n",
    "\n",
    "def expansion_in_Ptilde(poly):\n",
    "    \"\"\"GIven poly an element of R_symbols, interpreted as a rational function on E, \n",
    "    it computes an approximated expansion of poly in tilde{P} in a parameter h =x/y at tilde P, using that g_Qi, g_Ri that are regular at tilde P, \n",
    "    using that f_{sigma^i Q}(tilde P) = l_i and f_{sigma^i R}(tilde P) = r_i by definition ... hence that  \n",
    "    there exists functions g_Qi, g_Ri that are regular at tilde P such that f_{sigma^i R} = r_i + h*g_Ri and f_{sigma^i Q} = l_i + h*g_Qi\"\"\"\n",
    "    return poly(f_Q0=l_0 + h*g_Q0, f_Q1=l_1 + h*g_Q1, f_Q2=l_2 + h*g_Q2, f_Q3=l_3 + h*g_Q3,\n",
    "                f_R0=r_0 + h*g_R0, f_R1=r_1 + h*g_R1, f_R2=r_2 + h*g_R2, f_R3= r_3 + h*g_R3)\n",
    "\n"
   ]
  },
  {
   "cell_type": "code",
   "execution_count": 15,
   "id": "9071afee",
   "metadata": {},
   "outputs": [
    {
     "name": "stdout",
     "output_type": "stream",
     "text": [
      "Let expa be the expansion of C_d at O_E, in the parameter h = x/y\n",
      "The denominator of expa is  1 , hence O_E is not a pole of C_d\n",
      "expa (mod h) =  0 , hence O_E is a zero of C_d\n",
      "expa/h (mod h) =  0 , hence O_E is a zero of C_d of order at least 2\n"
     ]
    }
   ],
   "source": [
    "expa = expansion_in_0(C_d)\n",
    "print(\"Let expa be the expansion of C_d at O_E, in the parameter h = x/y\")\n",
    "print(\"The denominator of expa is \", denominator(expa) ,\", hence O_E is not a pole of C_d\")\n",
    "print(\"expa (mod h) = \", numerator(expa).quo_rem(h)[1], \", hence O_E is a zero of C_d\" )\n",
    "print(\"expa/h (mod h) = \", numerator(expa).quo_rem(h)[0].quo_rem(h)[1], \", hence O_E is a zero of C_d of order at least 2\"  )\n"
   ]
  },
  {
   "cell_type": "code",
   "execution_count": 16,
   "id": "42922d25",
   "metadata": {},
   "outputs": [
    {
     "name": "stdout",
     "output_type": "stream",
     "text": [
      "Now let expa be the expansion of the C_d at tilde{P} in a parameter h\n",
      "The denominator of expa is  1 , hence tilde{P} is not a pole of C_d\n",
      "expa (mod h) =  0 , hence tilde{P} is a zero of C_d\n",
      "expa/h (mod h) =  0 , hence tilde{P} is a zero of C_d of order at least 2\n"
     ]
    }
   ],
   "source": [
    "expa = expansion_in_Ptilde(C_d)\n",
    "\n",
    "print(\"Now let expa be the expansion of the C_d at tilde{P} in a parameter h\")\n",
    "print(\"The denominator of expa is \", denominator(expa) ,\", hence tilde{P} is not a pole of C_d\")\n",
    "print(\"expa (mod h) = \", numerator(expa).quo_rem(h)[1], \", hence tilde{P} is a zero of C_d\" )\n",
    "print(\"expa/h (mod h) = \", numerator(expa).quo_rem(h)[0].quo_rem(h)[1], \", hence tilde{P} is a zero of C_d of order at least 2\"  )"
   ]
  },
  {
   "cell_type": "markdown",
   "id": "b80e3505",
   "metadata": {},
   "source": [
    "We now check that \n",
    "### 2c) C_d has poles at most in $Q, -\\sigma Q, -\\sigma^2 Q, -\\sigma^3Q$ and $-\\sigma^2 R$, all with order at most $1$.\n",
    "\n",
    "\n",
    "Indeed writing $C_d$ as a polynomial in the functions $f_{\\sigma^iQ}$ and $f_{\\sigma^i R}$ we now check that the functions\n",
    "$f_{R}$, $f_{\\sigma R}$ and $f_{\\sigma^3 R}$ do not appear (they appear with degree $0$). So the poles of $C_d$ are at most the poles above and maybe $O_E$ (indeed the functions $f_{point}$ only have poles in $O_E$ and $-point$, both simple). But we checked that actually $O_E$ is a zero, so it is not a pole. \n",
    "Moreover we also compute that the variables $f_{\\sigma^iQ}$ and $f_{\\sigma^i R}$ appear with degree $1$, hence the above points can be at most poles of order $1$"
   ]
  },
  {
   "cell_type": "code",
   "execution_count": 17,
   "id": "06b307f8",
   "metadata": {},
   "outputs": [
    {
     "name": "stdout",
     "output_type": "stream",
     "text": [
      "the degree of C_d in the variable  f_Q0  is  1\n",
      "the degree of C_d in the variable  f_Q1  is  1\n",
      "the degree of C_d in the variable  f_Q2  is  1\n",
      "the degree of C_d in the variable  f_Q3  is  1\n",
      "the degree of C_d in the variable  f_R0  is  0\n",
      "the degree of C_d in the variable  f_R1  is  0\n",
      "the degree of C_d in the variable  f_R2  is  1\n",
      "the degree of C_d in the variable  f_R3  is  0\n"
     ]
    }
   ],
   "source": [
    "for f in f_Qs+f_Rs:\n",
    "    print(\"the degree of C_d in the variable \", f, \" is \", C_d.degree(f))"
   ]
  },
  {
   "cell_type": "markdown",
   "id": "810031da",
   "metadata": {},
   "source": [
    "Finally we deduce that\n",
    "### $C_d$ is the  zero function\n",
    "\n",
    "\n",
    "Indeed we know 5 zeroes, counted with multiplicity, of $C_d$ namely $O_E$ and $\\widetilde P$ with order at least $2$ and  $-\\sigma^3 R$ with order at least $1$. Moreover $C_d$ has at most $5$ poles namely the points $-\\sigma^0 Q, \\ldots -\\sigma^3 Q ,- \\sigma^2R$, all with multiplicity $1$. Hence, if $C_d$ is not the zero function then it must have exactly degree $5$. Since the sum of the poles of rational function is equal to the sum of the zeroes, this implies that \n",
    "$$2\\widetilde P = -\\sigma^0 - \\ldots  -\\sigma^3 Q  - \\sigma^2R +R$$\n",
    "which contradicts Equation (9.1.2) of the paper.\n"
   ]
  },
  {
   "cell_type": "markdown",
   "id": "9fab09e3",
   "metadata": {},
   "source": [
    "# Step 3: studying $C_d$ as a polynomial in $f_{\\sigma^2 R}$ and deriving a contradiction"
   ]
  },
  {
   "cell_type": "markdown",
   "id": "fbbbaa08",
   "metadata": {},
   "source": [
    "We have already seen that $C_d$ has degree $1$ as a polynomial in $f_{\\sigma^2 R} = $ `f_R2`. Hence we can write it as\n",
    "\n",
    "$$ C_d = A \\cdot f_{\\sigma^2 R} + B  = A(f_{\\sigma^0 Q}, \\ldots, f_{\\sigma^3 Q}) \\cdot f_{\\sigma^2 R} + B(f_{\\sigma^0 Q}, \\ldots, f_{\\sigma^3 Q})  $$\n",
    "\n",
    "for certain multivariate polynomials $A= A(f_{\\sigma^0 Q}, \\ldots, f_{\\sigma^3 Q})$, $B = B(f_{\\sigma^0 Q}, \\ldots, f_{\\sigma^3 Q})$.\n",
    "\n",
    "We now compute $A, B$ and study their zeroes and poles"
   ]
  },
  {
   "cell_type": "code",
   "execution_count": 18,
   "id": "cee80692",
   "metadata": {},
   "outputs": [],
   "source": [
    "A = C_d.coefficient(f_R2)\n",
    "B = C_d(f_R2=0)\n"
   ]
  },
  {
   "cell_type": "markdown",
   "id": "46dfd69a",
   "metadata": {},
   "source": [
    "### 3a) $A$ vanishes on $\\widetilde P$ and $O_E$"
   ]
  },
  {
   "cell_type": "code",
   "execution_count": 19,
   "id": "f1eefa99",
   "metadata": {},
   "outputs": [
    {
     "name": "stdout",
     "output_type": "stream",
     "text": [
      "Let expa be the expansion of A at O_E, in the parameter h = x/y\n",
      "The denominator of expa is  1 , hence O_E is not a pole of A\n",
      "expa (mod h) =  0 , hence O_E is a zero of A\n"
     ]
    }
   ],
   "source": [
    "expa = expansion_in_0(A)\n",
    "print(\"Let expa be the expansion of A at O_E, in the parameter h = x/y\")\n",
    "print(\"The denominator of expa is \", denominator(expa) ,\", hence O_E is not a pole of A\")\n",
    "print(\"expa (mod h) = \", numerator(expa).quo_rem(h)[1], \", hence O_E is a zero of A\" )\n"
   ]
  },
  {
   "cell_type": "code",
   "execution_count": 20,
   "id": "515bc34f",
   "metadata": {},
   "outputs": [
    {
     "name": "stdout",
     "output_type": "stream",
     "text": [
      "Let expa be the expansion of A at tilde{P}, in a parameter h\n",
      "The denominator of expa is  1 , hence tilde{P} is not a pole of A\n",
      "expa (mod h) =  0 , hence tilde{P} is a zero of A\n"
     ]
    }
   ],
   "source": [
    "expa = expansion_in_Ptilde(A)\n",
    "print(\"Let expa be the expansion of A at tilde{P}, in a parameter h\")\n",
    "print(\"The denominator of expa is \", denominator(expa) ,\", hence tilde{P} is not a pole of A\")\n",
    "print(\"expa (mod h) = \", numerator(expa).quo_rem(h)[1], \", hence tilde{P} is a zero of A\" )"
   ]
  },
  {
   "cell_type": "markdown",
   "id": "89b06fcf",
   "metadata": {},
   "source": [
    "### 3b) $A$ has simple poles in the points $\\sigma^i Q$ and no other poles \n",
    "\n",
    "It is enough to check that $A$ is of the form\n",
    "\n",
    "$$ A = a_0 \\cdot f_{\\sigma^0 Q} + \\ldots + a_3 \\cdot f_{\\sigma^3 Q}$$\n",
    "\n",
    "for certain constants $a_i$ that are non-zero (they are products of $l_i-l_j$ and $r_i-r_j$). This implies the above statement\n",
    "(the only other pole might be $O_E$, but actually we have seen that it is a zero) "
   ]
  },
  {
   "cell_type": "code",
   "execution_count": 21,
   "id": "add63ec7",
   "metadata": {},
   "outputs": [
    {
     "name": "stdout",
     "output_type": "stream",
     "text": [
      "the degree of A in the variable  f_Q0  is  1\n",
      " and the leading coefficient is  (-1) * (r_1 - r_2) * (r_0 - r_2) * (-l_2 + l_3) * (-l_1 + l_3) * (-l_1 + l_2) * (l_0 - r_2)\n",
      "the degree of A in the variable  f_Q1  is  1\n",
      " and the leading coefficient is  (r_1 - r_2) * (r_0 - r_2) * (-l_2 + l_3) * (l_1 - r_2) * (-l_0 + l_3) * (-l_0 + l_2)\n",
      "the degree of A in the variable  f_Q2  is  1\n",
      " and the leading coefficient is  (-1) * (r_1 - r_2) * (r_0 - r_2) * (l_2 - r_2) * (-l_1 + l_3) * (-l_0 + l_3) * (-l_0 + l_1)\n",
      "the degree of A in the variable  f_Q3  is  1\n",
      " and the leading coefficient is  (r_1 - r_2) * (r_0 - r_2) * (l_3 - r_2) * (-l_1 + l_2) * (-l_0 + l_2) * (-l_0 + l_1)\n",
      "the degree of A in the variable  f_R0  is  0\n",
      "the degree of A in the variable  f_R1  is  0\n",
      "the degree of A in the variable  f_R2  is  0\n",
      "the degree of A in the variable  f_R3  is  0\n"
     ]
    }
   ],
   "source": [
    "for f in f_Qs+f_Rs:\n",
    "    print(\"the degree of A in the variable \", f, \" is \", A.degree(f))\n",
    "    if (A.degree(f)==1):\n",
    "        print(\" and the leading coefficient is \", A.coefficient(f).factor())"
   ]
  },
  {
   "cell_type": "markdown",
   "id": "e68fb760",
   "metadata": {},
   "source": [
    "The above computations imply that \n",
    "\n",
    "### 3c) $A$ and $B$ both vanish on $\\widetilde P$ and on  $S := -\\sigma^0 Q- \\ldots -\\sigma^3 Q - \\tilde P + \\sigma^2 R$\n",
    "\n",
    "We have already checked that $A(\\widetilde P)=0$. Moreover also $-\\sigma^2 R$ is a zero of $A$,  since $A\\cdot f_{\\sigma^2 R} + B = c_d = 0$ and since $B$ is regular on $-\\sigma^2$, to compensate the pole at $\\sigma^2 R$ of $f_{\\sigma^2 R}$ then $A$ vanishes there. Then we know the four poles of $A$ (namely the points $-\\sigma^i Q$) and three of the zeroes of $A$, namely $O_E$, $\\widetilde P$ and also $-\\sigma^2 R$. \n",
    "Since the sum of the poles of $A$ is equal to the sum of the zeroes, we deduce that the fourth zero is exactly $-\\sigma^0 Q- \\ldots -\\sigma^3 Q - \\tilde P + \\sigma^2 R = S$.\n",
    "\n",
    "Finally, since by (9.1.2) both $\\widetilde P$ and $S$ are not poles of $f_{\\sigma^2 R}$, they are also zeroes of $B = - A \\cdot f_{\\sigma^2 R}$\n"
   ]
  },
  {
   "cell_type": "markdown",
   "id": "6e9ab8ae",
   "metadata": {},
   "source": [
    "### 3d) defining a function $L = a_1 f_{\\sigma^1 Q} +  a_2 f_{\\sigma^2 Q} +  a_3 f_{\\sigma^3 Q}$ that vanishes on  $\\widetilde P$ and $S$ \n",
    "\n",
    "Since the points $\\widetilde P$ and $S$ are not poles of the functions $f_{\\sigma^i Q}, f_{\\sigma^i R}$, any function\n",
    "$$\n",
    "D =  Y(f_{\\sigma^0Q}, \\ldots, f_{\\sigma^3Q}, f_{\\sigma^0R}, \\ldots, f_{\\sigma^3R}) \\cdot A - X(f_{\\sigma^0Q}, \\ldots, f_{\\sigma^3Q}, f_{\\sigma^0R}, \\ldots, f_{\\sigma^3R}) \\cdot B\n",
    "$$ \n",
    "with $X,Y$ being multivariate polynomials with integer coefficients, vanishes on $\\widetilde P$ and $S$, just like $A$ and $B$.\n",
    "\n",
    "We take a combination that eliminates the \"variable\" $f_{\\sigma^0 Q}$"
   ]
  },
  {
   "cell_type": "code",
   "execution_count": 22,
   "id": "8cfb4709",
   "metadata": {},
   "outputs": [],
   "source": [
    "X = A.coefficient(f_Q0)\n",
    "Y = B.coefficient(f_Q0)\n",
    "# X.factor(), Y.factor()"
   ]
  },
  {
   "cell_type": "code",
   "execution_count": 23,
   "id": "e24cab5a",
   "metadata": {},
   "outputs": [
    {
     "data": {
      "text/plain": [
       "(-1) * (l_3 - r_2) * (l_2 - r_2) * (l_1 - r_2) * (-l_0 + l_3) * (-l_0 + l_2) * (-l_0 + l_1) * (r_1 - r_2)^2 * (r_0 - r_2)^2 * (-l_2*f_Q1 + l_3*f_Q1 + l_1*f_Q2 - l_3*f_Q2 - l_1*f_Q3 + l_2*f_Q3)^2"
      ]
     },
     "execution_count": 23,
     "metadata": {},
     "output_type": "execute_result"
    }
   ],
   "source": [
    "D = Y*A - X*B\n",
    "D.factor()"
   ]
  },
  {
   "cell_type": "markdown",
   "id": "6b99c55d",
   "metadata": {},
   "source": [
    "As shown above $D$ is a product of non-zero constants ($l_i-l_j$ or $l_i-r_j$ or $r_i-r_j$) and the square of another function $L$. Then $L$ vanishes too on $\\tilde P$ and $-\\sigma^0 Q- \\ldots -\\sigma^3 Q - \\tilde P + \\sigma^2 R$\n",
    "we now compute $L$."
   ]
  },
  {
   "cell_type": "code",
   "execution_count": 24,
   "id": "a59d8ea6",
   "metadata": {},
   "outputs": [
    {
     "data": {
      "text/plain": [
       "-l_2*f_Q1 + l_3*f_Q1 + l_1*f_Q2 - l_3*f_Q2 - l_1*f_Q3 + l_2*f_Q3"
      ]
     },
     "execution_count": 24,
     "metadata": {},
     "output_type": "execute_result"
    }
   ],
   "source": [
    "L = D.factor()[-1][0]\n",
    "L"
   ]
  },
  {
   "cell_type": "markdown",
   "id": "f624b77a",
   "metadata": {},
   "source": [
    "### 3e) $L$ has exactly 3 poles, nameely $-\\sigma Q, -\\sigma^2 Q, -\\sigma^3 Q$, all simple and that the three zeroes are $O_E$, $\\widetilde P$ and $S$.\n",
    "\n",
    "Indeed we check that\n",
    "$$ L = c_1 \\cdot f_{\\sigma^1 Q} + c_2 \\cdot f_{\\sigma^2 Q} + c_3 \\cdot f_{\\sigma^3 Q}$$\n",
    "\n",
    "for non-zero constants $c_i$ (they are of the form of $l_i-l_j$) and that $L$ has a zero in $O_E$.\n",
    "\n",
    "We have already proven that the other two points are zeroes of $L$."
   ]
  },
  {
   "cell_type": "code",
   "execution_count": 25,
   "id": "030f5e41",
   "metadata": {},
   "outputs": [
    {
     "name": "stdout",
     "output_type": "stream",
     "text": [
      "the degree of L in the variable  f_Q0  is  0\n",
      "the degree of L in the variable  f_Q1  is  1\n",
      " and the leading coefficient is  (-1) * (l_2 - l_3)\n",
      "the degree of L in the variable  f_Q2  is  1\n",
      " and the leading coefficient is  l_1 - l_3\n",
      "the degree of L in the variable  f_Q3  is  1\n",
      " and the leading coefficient is  (-1) * (l_1 - l_2)\n",
      "the degree of L in the variable  f_R0  is  0\n",
      "the degree of L in the variable  f_R1  is  0\n",
      "the degree of L in the variable  f_R2  is  0\n",
      "the degree of L in the variable  f_R3  is  0\n"
     ]
    }
   ],
   "source": [
    "for f in f_Qs+f_Rs:\n",
    "    print(\"the degree of L in the variable \", f, \" is \", L.degree(f))\n",
    "    if (L.degree(f)==1):\n",
    "        print(\" and the leading coefficient is \", L.coefficient(f).factor())"
   ]
  },
  {
   "cell_type": "code",
   "execution_count": 26,
   "id": "8efdc8fd",
   "metadata": {
    "scrolled": true
   },
   "outputs": [
    {
     "name": "stdout",
     "output_type": "stream",
     "text": [
      "Let expa be the expansion of L at O_E, in the parameter h = x/y\n",
      "The denominator of the expansion is  1 , hence O_E is not a pole of L\n",
      "expa (mod h) =  0 , hence O_E is a zero of L\n"
     ]
    }
   ],
   "source": [
    "expa = expansion_in_0(L)\n",
    "print(\"Let expa be the expansion of L at O_E, in the parameter h = x/y\")\n",
    "print(\"The denominator of the expansion is \", denominator(expa) ,\", hence O_E is not a pole of L\")\n",
    "print(\"expa (mod h) = \", numerator(expa).quo_rem(h)[1], \", hence O_E is a zero of L\" )"
   ]
  },
  {
   "cell_type": "code",
   "execution_count": 27,
   "id": "f58e35b2",
   "metadata": {},
   "outputs": [
    {
     "data": {
      "text/plain": [
       "(-l_2 + l_3)*h*g_Q1 + (l_1 - l_3)*h*g_Q2 + (-l_1 + l_2)*h*g_Q3"
      ]
     },
     "execution_count": 27,
     "metadata": {},
     "output_type": "execute_result"
    }
   ],
   "source": [
    "expansion_in_0(L)\n"
   ]
  },
  {
   "cell_type": "markdown",
   "id": "b9066216",
   "metadata": {},
   "source": [
    "# CONTRADICTION\n",
    "Indeed the sum of the zeroes of $L$ must be equal to the sum of the poles, hence\n",
    "\n",
    "$$ -\\sigma Q -\\sigma^2 Q -\\sigma^3 Q = O_E  + \\widetilde P + S = -Q  -\\sigma Q -\\sigma^2 Q -\\sigma^3 Q  + \\sigma^2 R $$\n",
    "\n",
    "that is \n",
    "\n",
    "$$ Q = \\sigma^2 R$$\n",
    "which is absurd since $Q$ is not a trap point hence the points $\\sigma^i Q$ and $\\sigma^i R$ are all distinct (see equation (9.2.4) and below) \n",
    "\n"
   ]
  },
  {
   "cell_type": "code",
   "execution_count": null,
   "id": "6f3a6e8b",
   "metadata": {},
   "outputs": [],
   "source": []
  }
 ],
 "metadata": {
  "kernelspec": {
   "display_name": "SageMath 9.5",
   "language": "sage",
   "name": "sagemath"
  },
  "language_info": {
   "codemirror_mode": {
    "name": "ipython",
    "version": 3
   },
   "file_extension": ".py",
   "mimetype": "text/x-python",
   "name": "python",
   "nbconvert_exporter": "python",
   "pygments_lexer": "ipython3",
   "version": "3.11.2"
  }
 },
 "nbformat": 4,
 "nbformat_minor": 5
}
